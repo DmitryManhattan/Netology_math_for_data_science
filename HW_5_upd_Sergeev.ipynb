{
 "cells": [
  {
   "cell_type": "markdown",
   "metadata": {
    "id": "_kX74ytuOfgy"
   },
   "source": [
    "# Домашнее задание \"Функции нескольких переменных\"."
   ]
  },
  {
   "cell_type": "markdown",
   "metadata": {
    "id": "t69IZulqTZMz"
   },
   "source": [
    "## Уровень 0:\n"
   ]
  },
  {
   "cell_type": "markdown",
   "metadata": {
    "id": "9JUikPzroAL8"
   },
   "source": [
    "### Задание 1"
   ]
  },
  {
   "cell_type": "markdown",
   "metadata": {
    "id": "ya8BlSO5nQ9a"
   },
   "source": [
    "Посчитайте частные производные функций:\n",
    "\n",
    "1) $f(x,y)=2x^2y^3 + 1/x + y^2x + 7$\n",
    "\n",
    "2) $f(x,y)=x^2y - sin(xy) + cos(x^2) + 6y$"
   ]
  },
  {
   "cell_type": "code",
   "execution_count": 5,
   "metadata": {},
   "outputs": [],
   "source": [
    "import sympy as sym\n",
    "\n",
    "\n",
    "# Первое уравнение\n",
    "\n",
    "x = sym.Symbol('x')\n",
    "y = sym.Symbol('y')\n",
    "\n",
    "first_function = 2*(x**2)*y**3 + 1/x + (y**2)*x + 7"
   ]
  },
  {
   "cell_type": "code",
   "execution_count": 3,
   "metadata": {},
   "outputs": [
    {
     "name": "stdout",
     "output_type": "stream",
     "text": [
      "Производная для X:\n"
     ]
    },
    {
     "data": {
      "text/latex": [
       "$\\displaystyle 4 x y^{3} + y^{2} - \\frac{1}{x^{2}}$"
      ],
      "text/plain": [
       "4*x*y**3 + y**2 - 1/x**2"
      ]
     },
     "execution_count": 3,
     "metadata": {},
     "output_type": "execute_result"
    }
   ],
   "source": [
    "# Находим производную для X\n",
    "diff_x = sym.diff(first_function, x)\n",
    "\n",
    "print('Производная для X:')\n",
    "diff_x"
   ]
  },
  {
   "cell_type": "code",
   "execution_count": 6,
   "metadata": {},
   "outputs": [
    {
     "name": "stdout",
     "output_type": "stream",
     "text": [
      "Производная для Y:\n"
     ]
    },
    {
     "data": {
      "text/latex": [
       "$\\displaystyle 6 x^{2} y^{2} + 2 x y$"
      ],
      "text/plain": [
       "6*x**2*y**2 + 2*x*y"
      ]
     },
     "execution_count": 6,
     "metadata": {},
     "output_type": "execute_result"
    }
   ],
   "source": [
    "# Находим производную для Y\n",
    "diff_y = sym.diff(first_function, y)\n",
    "\n",
    "print('Производная для Y:')\n",
    "diff_y"
   ]
  },
  {
   "cell_type": "code",
   "execution_count": 9,
   "metadata": {},
   "outputs": [
    {
     "name": "stdout",
     "output_type": "stream",
     "text": [
      "Производная для X:\n"
     ]
    },
    {
     "data": {
      "text/latex": [
       "$\\displaystyle 2 x y - 2 x \\sin{\\left(x^{2} \\right)} - y \\cos{\\left(x y \\right)}$"
      ],
      "text/plain": [
       "2*x*y - 2*x*sin(x**2) - y*cos(x*y)"
      ]
     },
     "execution_count": 9,
     "metadata": {},
     "output_type": "execute_result"
    }
   ],
   "source": [
    "# Второе уравнение\n",
    "\n",
    "second_function = (x**2)*y - sym.sin(x*y) + sym.cos(x**2) + 6*y\n",
    "\n",
    "# Находим производную для X\n",
    "diff_x = sym.diff(second_function, x)\n",
    "\n",
    "print('Производная для X:')\n",
    "diff_x"
   ]
  },
  {
   "cell_type": "code",
   "execution_count": 10,
   "metadata": {},
   "outputs": [
    {
     "name": "stdout",
     "output_type": "stream",
     "text": [
      "Производная для Y:\n"
     ]
    },
    {
     "data": {
      "text/latex": [
       "$\\displaystyle x^{2} - x \\cos{\\left(x y \\right)} + 6$"
      ],
      "text/plain": [
       "x**2 - x*cos(x*y) + 6"
      ]
     },
     "execution_count": 10,
     "metadata": {},
     "output_type": "execute_result"
    }
   ],
   "source": [
    "# Находим производную для Y\n",
    "diff_y = sym.diff(second_function, y)\n",
    "\n",
    "print('Производная для Y:')\n",
    "diff_y"
   ]
  },
  {
   "cell_type": "markdown",
   "metadata": {
    "id": "qZxS_tEVTapE"
   },
   "source": [
    "## Уровень 1:"
   ]
  },
  {
   "cell_type": "markdown",
   "metadata": {
    "id": "gUB5Tx31oDZB"
   },
   "source": [
    "### Задание 2"
   ]
  },
  {
   "cell_type": "markdown",
   "metadata": {
    "id": "Jh-pEPj-TcDQ"
   },
   "source": [
    "Вычислите градиент функции:\n",
    "\n",
    "$f(x,y)=2x^2y^3 + 1/x + y^2x + 7$\n",
    "\n",
    "в точке $(1,2)$"
   ]
  },
  {
   "cell_type": "code",
   "execution_count": null,
   "metadata": {
    "id": "uco5UzhWoHAP"
   },
   "outputs": [],
   "source": [
    "### YOUR CODE HERE"
   ]
  },
  {
   "cell_type": "markdown",
   "metadata": {
    "id": "8VarIpdkxpGK"
   },
   "source": [
    "### Задание 3"
   ]
  },
  {
   "cell_type": "markdown",
   "metadata": {
    "id": "GWBRQp39xpIj"
   },
   "source": [
    "Постройте трехмерный график функции\n",
    "\n",
    "$f(x)=x_2^2-x_1^2 x_2 + 2 x_1 x_2$"
   ]
  },
  {
   "cell_type": "code",
   "execution_count": null,
   "metadata": {
    "id": "p44HQDIUxpgx"
   },
   "outputs": [],
   "source": [
    "### YOUR CODE HERE"
   ]
  }
 ],
 "metadata": {
  "colab": {
   "collapsed_sections": [],
   "name": "HW_5_upd",
   "provenance": []
  },
  "kernelspec": {
   "display_name": "Python 3",
   "language": "python",
   "name": "python3"
  },
  "language_info": {
   "codemirror_mode": {
    "name": "ipython",
    "version": 3
   },
   "file_extension": ".py",
   "mimetype": "text/x-python",
   "name": "python",
   "nbconvert_exporter": "python",
   "pygments_lexer": "ipython3",
   "version": "3.7.6"
  }
 },
 "nbformat": 4,
 "nbformat_minor": 1
}
